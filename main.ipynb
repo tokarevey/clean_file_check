{
 "cells": [
  {
   "cell_type": "code",
   "execution_count": 1,
   "metadata": {},
   "outputs": [],
   "source": [
    "%load_ext autoreload\n",
    "%autoreload 2"
   ]
  },
  {
   "cell_type": "code",
   "execution_count": 2,
   "metadata": {},
   "outputs": [],
   "source": [
    "from delimeter_checker import DelimiterChecker\n",
    "from null_column_finder import ColumnNaNChecker\n",
    "from data_preprocessing import DataProc\n",
    "import pandas as pd"
   ]
  },
  {
   "cell_type": "code",
   "execution_count": 3,
   "metadata": {},
   "outputs": [],
   "source": [
    "f = 'TPL_MTI_05_Material_movements'\n",
    "filename = f'C:/Users/RM342AY/OneDrive - EY/Desktop/VOITH_DATA_RNs/{f}.csv'\n",
    "delimiter = ';'\n",
    "encoding = 'utf-8'"
   ]
  },
  {
   "cell_type": "code",
   "execution_count": 4,
   "metadata": {},
   "outputs": [
    {
     "name": "stderr",
     "output_type": "stream",
     "text": [
      "C:\\Users\\RM342AY\\AppData\\Local\\Temp\\ipykernel_41844\\1233355624.py:1: DtypeWarning: Columns (26,45) have mixed types. Specify dtype option on import or set low_memory=False.\n",
      "  df = pd.read_csv(filepath_or_buffer=filename, encoding=encoding, delimiter=delimiter, keep_default_na=False , na_values=['NULL', 'NaN', ''])\n"
     ]
    },
    {
     "data": {
      "text/html": [
       "<div>\n",
       "<style scoped>\n",
       "    .dataframe tbody tr th:only-of-type {\n",
       "        vertical-align: middle;\n",
       "    }\n",
       "\n",
       "    .dataframe tbody tr th {\n",
       "        vertical-align: top;\n",
       "    }\n",
       "\n",
       "    .dataframe thead th {\n",
       "        text-align: right;\n",
       "    }\n",
       "</style>\n",
       "<table border=\"1\" class=\"dataframe\">\n",
       "  <thead>\n",
       "    <tr style=\"text-align: right;\">\n",
       "      <th></th>\n",
       "      <th>System ID</th>\n",
       "      <th>Primary Key</th>\n",
       "      <th>Legal entity</th>\n",
       "      <th>Material document number</th>\n",
       "      <th>Material document line number</th>\n",
       "      <th>Material document fiscal year</th>\n",
       "      <th>Document type</th>\n",
       "      <th>Document type desc.</th>\n",
       "      <th>Plant ID</th>\n",
       "      <th>Plant name</th>\n",
       "      <th>...</th>\n",
       "      <th>Receiving storage location name</th>\n",
       "      <th>Other attribute 1</th>\n",
       "      <th>Other attribute 2</th>\n",
       "      <th>Other attribute 3</th>\n",
       "      <th>Other attribute 4</th>\n",
       "      <th>Other attribute 5</th>\n",
       "      <th>File_Process_Time</th>\n",
       "      <th>File_Creation_Time</th>\n",
       "      <th>MD5Hash</th>\n",
       "      <th>Extraction_request_id</th>\n",
       "    </tr>\n",
       "  </thead>\n",
       "  <tbody>\n",
       "    <tr>\n",
       "      <th>0</th>\n",
       "      <td>GEN001</td>\n",
       "      <td>6001077</td>\n",
       "      <td>VTIP</td>\n",
       "      <td>6001077</td>\n",
       "      <td>1</td>\n",
       "      <td>2023</td>\n",
       "      <td>NaN</td>\n",
       "      <td>NaN</td>\n",
       "      <td>VTIP-UNIT2</td>\n",
       "      <td>Voith Turbo Private Limited</td>\n",
       "      <td>...</td>\n",
       "      <td>NaN</td>\n",
       "      <td>NaN</td>\n",
       "      <td>NaN</td>\n",
       "      <td>NaN</td>\n",
       "      <td>NaN</td>\n",
       "      <td>NaN</td>\n",
       "      <td>NaN</td>\n",
       "      <td>NaN</td>\n",
       "      <td>NaN</td>\n",
       "      <td>NaN</td>\n",
       "    </tr>\n",
       "    <tr>\n",
       "      <th>1</th>\n",
       "      <td>GEN001</td>\n",
       "      <td>6001002</td>\n",
       "      <td>VTIP</td>\n",
       "      <td>6001002</td>\n",
       "      <td>1</td>\n",
       "      <td>2023</td>\n",
       "      <td>NaN</td>\n",
       "      <td>NaN</td>\n",
       "      <td>VTIP-UNIT2</td>\n",
       "      <td>Voith Turbo Private Limited</td>\n",
       "      <td>...</td>\n",
       "      <td>NaN</td>\n",
       "      <td>NaN</td>\n",
       "      <td>NaN</td>\n",
       "      <td>NaN</td>\n",
       "      <td>NaN</td>\n",
       "      <td>NaN</td>\n",
       "      <td>NaN</td>\n",
       "      <td>NaN</td>\n",
       "      <td>NaN</td>\n",
       "      <td>NaN</td>\n",
       "    </tr>\n",
       "    <tr>\n",
       "      <th>2</th>\n",
       "      <td>GEN001</td>\n",
       "      <td>6000926</td>\n",
       "      <td>VTIP</td>\n",
       "      <td>6000926</td>\n",
       "      <td>1</td>\n",
       "      <td>2023</td>\n",
       "      <td>NaN</td>\n",
       "      <td>NaN</td>\n",
       "      <td>VTIP-UNIT2</td>\n",
       "      <td>Voith Turbo Private Limited</td>\n",
       "      <td>...</td>\n",
       "      <td>NaN</td>\n",
       "      <td>NaN</td>\n",
       "      <td>NaN</td>\n",
       "      <td>NaN</td>\n",
       "      <td>NaN</td>\n",
       "      <td>NaN</td>\n",
       "      <td>NaN</td>\n",
       "      <td>NaN</td>\n",
       "      <td>NaN</td>\n",
       "      <td>NaN</td>\n",
       "    </tr>\n",
       "    <tr>\n",
       "      <th>3</th>\n",
       "      <td>GEN001</td>\n",
       "      <td>6000850</td>\n",
       "      <td>VTIP</td>\n",
       "      <td>6000850</td>\n",
       "      <td>1</td>\n",
       "      <td>2023</td>\n",
       "      <td>NaN</td>\n",
       "      <td>NaN</td>\n",
       "      <td>VTIP-UNIT2</td>\n",
       "      <td>Voith Turbo Private Limited</td>\n",
       "      <td>...</td>\n",
       "      <td>NaN</td>\n",
       "      <td>NaN</td>\n",
       "      <td>NaN</td>\n",
       "      <td>NaN</td>\n",
       "      <td>NaN</td>\n",
       "      <td>NaN</td>\n",
       "      <td>NaN</td>\n",
       "      <td>NaN</td>\n",
       "      <td>NaN</td>\n",
       "      <td>NaN</td>\n",
       "    </tr>\n",
       "    <tr>\n",
       "      <th>4</th>\n",
       "      <td>GEN001</td>\n",
       "      <td>6000774</td>\n",
       "      <td>VTIP</td>\n",
       "      <td>6000774</td>\n",
       "      <td>1</td>\n",
       "      <td>2023</td>\n",
       "      <td>NaN</td>\n",
       "      <td>NaN</td>\n",
       "      <td>VTIP-UNIT2</td>\n",
       "      <td>Voith Turbo Private Limited</td>\n",
       "      <td>...</td>\n",
       "      <td>NaN</td>\n",
       "      <td>NaN</td>\n",
       "      <td>NaN</td>\n",
       "      <td>NaN</td>\n",
       "      <td>NaN</td>\n",
       "      <td>NaN</td>\n",
       "      <td>NaN</td>\n",
       "      <td>NaN</td>\n",
       "      <td>NaN</td>\n",
       "      <td>NaN</td>\n",
       "    </tr>\n",
       "  </tbody>\n",
       "</table>\n",
       "<p>5 rows × 67 columns</p>\n",
       "</div>"
      ],
      "text/plain": [
       "  System ID  Primary Key Legal entity  Material document number  \\\n",
       "0    GEN001      6001077         VTIP                   6001077   \n",
       "1    GEN001      6001002         VTIP                   6001002   \n",
       "2    GEN001      6000926         VTIP                   6000926   \n",
       "3    GEN001      6000850         VTIP                   6000850   \n",
       "4    GEN001      6000774         VTIP                   6000774   \n",
       "\n",
       "   Material document line number  Material document fiscal year  \\\n",
       "0                              1                           2023   \n",
       "1                              1                           2023   \n",
       "2                              1                           2023   \n",
       "3                              1                           2023   \n",
       "4                              1                           2023   \n",
       "\n",
       "   Document type  Document type desc.    Plant ID  \\\n",
       "0            NaN                  NaN  VTIP-UNIT2   \n",
       "1            NaN                  NaN  VTIP-UNIT2   \n",
       "2            NaN                  NaN  VTIP-UNIT2   \n",
       "3            NaN                  NaN  VTIP-UNIT2   \n",
       "4            NaN                  NaN  VTIP-UNIT2   \n",
       "\n",
       "                    Plant name  ...  Receiving storage location name  \\\n",
       "0  Voith Turbo Private Limited  ...                              NaN   \n",
       "1  Voith Turbo Private Limited  ...                              NaN   \n",
       "2  Voith Turbo Private Limited  ...                              NaN   \n",
       "3  Voith Turbo Private Limited  ...                              NaN   \n",
       "4  Voith Turbo Private Limited  ...                              NaN   \n",
       "\n",
       "   Other attribute 1  Other attribute 2  Other attribute 3 Other attribute 4  \\\n",
       "0                NaN                NaN                NaN               NaN   \n",
       "1                NaN                NaN                NaN               NaN   \n",
       "2                NaN                NaN                NaN               NaN   \n",
       "3                NaN                NaN                NaN               NaN   \n",
       "4                NaN                NaN                NaN               NaN   \n",
       "\n",
       "  Other attribute 5 File_Process_Time  File_Creation_Time  MD5Hash  \\\n",
       "0               NaN               NaN                 NaN      NaN   \n",
       "1               NaN               NaN                 NaN      NaN   \n",
       "2               NaN               NaN                 NaN      NaN   \n",
       "3               NaN               NaN                 NaN      NaN   \n",
       "4               NaN               NaN                 NaN      NaN   \n",
       "\n",
       "  Extraction_request_id  \n",
       "0                   NaN  \n",
       "1                   NaN  \n",
       "2                   NaN  \n",
       "3                   NaN  \n",
       "4                   NaN  \n",
       "\n",
       "[5 rows x 67 columns]"
      ]
     },
     "execution_count": 4,
     "metadata": {},
     "output_type": "execute_result"
    }
   ],
   "source": [
    "df = pd.read_csv(filepath_or_buffer=filename, encoding=encoding, delimiter=delimiter, keep_default_na=False , na_values=['NULL', 'NaN', ''])\n",
    "df.head()"
   ]
  },
  {
   "cell_type": "code",
   "execution_count": 5,
   "metadata": {},
   "outputs": [
    {
     "name": "stdout",
     "output_type": "stream",
     "text": [
      "First row has 66 delimiters\n"
     ]
    },
    {
     "data": {
      "text/plain": [
       "'There are no wrong rows.'"
      ]
     },
     "execution_count": 5,
     "metadata": {},
     "output_type": "execute_result"
    }
   ],
   "source": [
    "# Check for delimeters\n",
    "del_check = DelimiterChecker(filename, delimiter, encoding)\n",
    "del_check.check_and_correct_delimiters()"
   ]
  },
  {
   "cell_type": "code",
   "execution_count": 16,
   "metadata": {},
   "outputs": [
    {
     "data": {
      "text/plain": [
       "\"Columns with NaN values: ['Plant name', 'Purchasing group', 'Purchasing group description', 'Purchasing organization', 'Purchasing organization description', 'PR document type description', 'Approval date', 'Raised by ID', 'Approved by ID', 'ForeignKey_Material', 'Material ID', 'Material description', 'Description', 'ForeignKey_Vendor', 'Vendor ID', 'Unit of measure', 'UoM description', 'DC (Document currency)', 'Base UoM', 'Base UoM description', 'Price unit in base UoM', 'Source', 'Other attribute 1', 'Other attribute 2', 'Other attribute 3', 'Other attribute 4', 'Other attribute 5', 'File_Process_Time', 'File_Creation_Time', 'MD5Hash', 'Extraction_request_id']\""
      ]
     },
     "execution_count": 16,
     "metadata": {},
     "output_type": "execute_result"
    }
   ],
   "source": [
    "# Check for null values\n",
    "finder = ColumnNaNChecker(filename, delimiter, encoding)\n",
    "finder.check_columns_with_nan()"
   ]
  },
  {
   "cell_type": "code",
   "execution_count": 17,
   "metadata": {},
   "outputs": [],
   "source": [
    "path_to_save = f'C:/Users/RM342AY/OneDrive - EY/Desktop/VOITH DATA/new_data/voith_data_last/{f}.csv'\n",
    "df.to_csv(path_or_buf=path_to_save, index=False, encoding='utf-8', sep=delimiter)"
   ]
  },
  {
   "cell_type": "code",
   "execution_count": null,
   "metadata": {},
   "outputs": [],
   "source": []
  }
 ],
 "metadata": {
  "kernelspec": {
   "display_name": "venv",
   "language": "python",
   "name": "python3"
  },
  "language_info": {
   "codemirror_mode": {
    "name": "ipython",
    "version": 3
   },
   "file_extension": ".py",
   "mimetype": "text/x-python",
   "name": "python",
   "nbconvert_exporter": "python",
   "pygments_lexer": "ipython3",
   "version": "3.12.1"
  }
 },
 "nbformat": 4,
 "nbformat_minor": 2
}
