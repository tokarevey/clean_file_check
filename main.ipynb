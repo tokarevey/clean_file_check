{
 "cells": [
  {
   "cell_type": "code",
   "execution_count": 3,
   "metadata": {},
   "outputs": [],
   "source": [
    "%load_ext autoreload\n",
    "%autoreload 2"
   ]
  },
  {
   "cell_type": "code",
   "execution_count": 4,
   "metadata": {},
   "outputs": [],
   "source": [
    "from delimeter_checker import DelimiterChecker\n",
    "from null_column_finder import ColumnNaNChecker\n",
    "import pandas as pd"
   ]
  },
  {
   "cell_type": "code",
   "execution_count": 19,
   "metadata": {},
   "outputs": [],
   "source": [
    "filename = r'C:\\Users\\RM342AY\\OneDrive - EY\\Desktop\\VOITH DATA\\TPL_PTP_04_Purchase_requisition.csv'\n",
    "delimiter = ';'\n",
    "encoding = '1252'"
   ]
  },
  {
   "cell_type": "code",
   "execution_count": 14,
   "metadata": {},
   "outputs": [],
   "source": [
    "null_finder = ColumnNaNChecker(filename, delimiter, encoding)"
   ]
  },
  {
   "cell_type": "code",
   "execution_count": 15,
   "metadata": {},
   "outputs": [
    {
     "name": "stdout",
     "output_type": "stream",
     "text": [
      "Columns with NaN values: ['Plant ID', 'Plant name', 'Purchasing group', 'Purchasing group description', 'Purchasing organization', 'Purchasing organization description', 'PR number', 'PR document type description', 'Approval date', 'Raised by ID', 'Created by ID', 'Approved by ID', 'ForeignKey_Material', 'Material ID', 'Material description', 'Description', 'ForeignKey_Vendor', 'Vendor ID', 'Unit of measure', 'UoM description', 'DC (Document currency)', 'Base UoM', 'Base UoM description', 'Price unit in base UoM', 'Source', 'Other attribute 1', 'Other attribute 2', 'Other attribute 3', 'Other attribute 4', 'Other attribute 5']\n"
     ]
    }
   ],
   "source": [
    "checker = ColumnNaNChecker(filename, delimiter, encoding)\n",
    "print(checker.check_columns_with_nan())"
   ]
  },
  {
   "cell_type": "code",
   "execution_count": 1,
   "metadata": {},
   "outputs": [],
   "source": [
    "# df = pd.read_csv(filepath_or_buffer=filename, delimiter=delimiter)\n",
    "# df.head()"
   ]
  },
  {
   "cell_type": "code",
   "execution_count": 20,
   "metadata": {},
   "outputs": [],
   "source": [
    "delimeter_checker = DelimiterChecker(filename, delimiter, encoding)"
   ]
  },
  {
   "cell_type": "code",
   "execution_count": 21,
   "metadata": {},
   "outputs": [
    {
     "name": "stdout",
     "output_type": "stream",
     "text": [
      "First row has 48 delimiters\n"
     ]
    },
    {
     "data": {
      "text/plain": [
       "'There are no wrong rows.'"
      ]
     },
     "execution_count": 21,
     "metadata": {},
     "output_type": "execute_result"
    }
   ],
   "source": [
    "delimeter_checker.check_and_correct_delimiters()"
   ]
  },
  {
   "cell_type": "code",
   "execution_count": null,
   "metadata": {},
   "outputs": [],
   "source": []
  }
 ],
 "metadata": {
  "kernelspec": {
   "display_name": "venv",
   "language": "python",
   "name": "python3"
  },
  "language_info": {
   "codemirror_mode": {
    "name": "ipython",
    "version": 3
   },
   "file_extension": ".py",
   "mimetype": "text/x-python",
   "name": "python",
   "nbconvert_exporter": "python",
   "pygments_lexer": "ipython3",
   "version": "3.12.1"
  }
 },
 "nbformat": 4,
 "nbformat_minor": 2
}
